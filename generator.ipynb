{
 "cells": [
  {
   "cell_type": "code",
   "execution_count": null,
   "metadata": {},
   "outputs": [],
   "source": [
    "import pandas as pd\n",
    "import ipywidgets\n",
    "import ipysheet"
   ]
  },
  {
   "cell_type": "code",
   "execution_count": null,
   "metadata": {},
   "outputs": [],
   "source": [
    "from tools.jupyterfunctions import create_ipysheet_from_df, get_checkbox_true, get_names_with_checkbox_true, get_full_list_people_from_company, get_company_email_data_string, get_final_sheet, extra_impersonal_emails_to_check, get_dataframe_to_save, save_final_df_to_csv"
   ]
  },
  {
   "cell_type": "code",
   "execution_count": null,
   "metadata": {},
   "outputs": [],
   "source": [
    "df_company_list = pd.read_excel(\"final_company_list.xlsx\", index_col=0)\n",
    "df_company_list.insert(0, \"Checkbox\", False)\n",
    "df_linkedin_site = pd.read_csv(\"final_linked_list.csv\", sep=\"$\", encoding= 'unicode_escape')"
   ]
  },
  {
   "cell_type": "code",
   "execution_count": null,
   "metadata": {},
   "outputs": [],
   "source": [
    "sheet_companies = create_ipysheet_from_df(df_company_list, height=\"300px\")\n",
    "sheet_companies"
   ]
  },
  {
   "cell_type": "code",
   "execution_count": null,
   "metadata": {},
   "outputs": [],
   "source": [
    "company_details = get_checkbox_true(sheet_companies)\n",
    "print(get_company_email_data_string(company_details))"
   ]
  },
  {
   "cell_type": "code",
   "execution_count": null,
   "metadata": {},
   "outputs": [],
   "source": [
    "sheet_impersonal_emails = extra_impersonal_emails_to_check(company_details)\n",
    "sheet_impersonal_emails"
   ]
  },
  {
   "cell_type": "code",
   "execution_count": null,
   "metadata": {},
   "outputs": [],
   "source": [
    "df_impersonal_emails = final_dataframe_with_impersonal_emails(sheet_impersonal_emails, company_details)"
   ]
  },
  {
   "cell_type": "code",
   "execution_count": null,
   "metadata": {},
   "outputs": [],
   "source": [
    "company_list = get_names_with_checkbox_true(sheet_companies)\n",
    "sheet_people_from_companies = get_full_list_people_from_company(df_linkedin_site, company_list, height=\"300px\")\n",
    "sheet_people_from_companies"
   ]
  },
  {
   "cell_type": "code",
   "execution_count": null,
   "metadata": {},
   "outputs": [],
   "source": [
    "sheet_final = get_final_sheet(sheet_people_from_companies, company_details)\n",
    "sheet_final"
   ]
  },
  {
   "cell_type": "code",
   "execution_count": null,
   "metadata": {},
   "outputs": [],
   "source": [
    "df_final = get_dataframe_to_save(sheet_final, df_impersonal_emails)\n",
    "df_final"
   ]
  },
  {
   "cell_type": "code",
   "execution_count": null,
   "metadata": {},
   "outputs": [],
   "source": [
    "save_final_df_to_csv(df_final)"
   ]
  }
 ],
 "metadata": {
  "kernelspec": {
   "display_name": "venvcompanyscrapper",
   "language": "python",
   "name": "venvcompanyscrapper"
  },
  "language_info": {
   "codemirror_mode": {
    "name": "ipython",
    "version": 3
   },
   "file_extension": ".py",
   "mimetype": "text/x-python",
   "name": "python",
   "nbconvert_exporter": "python",
   "pygments_lexer": "ipython3",
   "version": "3.7.8"
  }
 },
 "nbformat": 4,
 "nbformat_minor": 4
}
